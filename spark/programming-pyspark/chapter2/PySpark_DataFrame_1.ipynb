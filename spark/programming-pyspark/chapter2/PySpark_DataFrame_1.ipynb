{
 "cells": [
  {
   "cell_type": "markdown",
   "id": "b6fca8b0",
   "metadata": {},
   "source": [
    "## PySpark 설치"
   ]
  },
  {
   "cell_type": "code",
   "execution_count": 1,
   "id": "c1763775",
   "metadata": {},
   "outputs": [
    {
     "name": "stdout",
     "output_type": "stream",
     "text": [
      "Requirement already satisfied: pyspark==3.5.6 in c:\\users\\chaeyni\\documents\\study\\spark\\venv\\lib\\site-packages (3.5.6)\n",
      "Requirement already satisfied: py4j==0.10.9.7 in c:\\users\\chaeyni\\documents\\study\\spark\\venv\\lib\\site-packages (from pyspark==3.5.6) (0.10.9.7)\n",
      "Note: you may need to restart the kernel to use updated packages.\n",
      "Requirement already satisfied: pandas in c:\\users\\chaeyni\\documents\\study\\spark\\venv\\lib\\site-packages (2.3.1)\n",
      "Requirement already satisfied: numpy>=1.22.4 in c:\\users\\chaeyni\\documents\\study\\spark\\venv\\lib\\site-packages (from pandas) (2.2.6)\n",
      "Requirement already satisfied: python-dateutil>=2.8.2 in c:\\users\\chaeyni\\documents\\study\\spark\\venv\\lib\\site-packages (from pandas) (2.9.0.post0)\n",
      "Requirement already satisfied: pytz>=2020.1 in c:\\users\\chaeyni\\documents\\study\\spark\\venv\\lib\\site-packages (from pandas) (2025.2)\n",
      "Requirement already satisfied: tzdata>=2022.7 in c:\\users\\chaeyni\\documents\\study\\spark\\venv\\lib\\site-packages (from pandas) (2025.2)\n",
      "Requirement already satisfied: six>=1.5 in c:\\users\\chaeyni\\documents\\study\\spark\\venv\\lib\\site-packages (from python-dateutil>=2.8.2->pandas) (1.17.0)\n",
      "Note: you may need to restart the kernel to use updated packages.\n"
     ]
    }
   ],
   "source": [
    "%pip install pyspark==3.5.6\n",
    "%pip install pandas"
   ]
  },
  {
   "cell_type": "code",
   "execution_count": 2,
   "id": "a579ae78",
   "metadata": {},
   "outputs": [],
   "source": [
    "import wget, os\n",
    "import pandas as pd"
   ]
  },
  {
   "cell_type": "markdown",
   "id": "bcda2c9f",
   "metadata": {},
   "source": [
    "처리할 데이터 파일 다운로드"
   ]
  },
  {
   "cell_type": "code",
   "execution_count": 3,
   "id": "b7a27f27",
   "metadata": {},
   "outputs": [],
   "source": [
    "save_path = 'data/1800.csv'\n",
    "download_path = 'https://s3-geospatial.s3-us-west-2.amazonaws.com/1800.csv'\n",
    "\n",
    "if not os.path.exists(save_path):\n",
    "    wget.download(download_path, out=save_path)"
   ]
  },
  {
   "cell_type": "code",
   "execution_count": 4,
   "id": "0e66af77",
   "metadata": {},
   "outputs": [
    {
     "name": "stdout",
     "output_type": "stream",
     "text": [
      "Active code page: 65001\n",
      " Volume in drive C has no label.\n",
      " Volume Serial Number is BC10-1C56\n",
      "\n",
      " Directory of c:\\Users\\chaeyni\\Documents\\study\\spark\\programming-pyspark\\chapter2\\data\n",
      "\n",
      "2025-07-27  오후 05:13    <DIR>          .\n",
      "2025-07-27  오후 05:07    <DIR>          ..\n",
      "2025-07-27  오후 05:13            62,728 1800.csv\n",
      "2025-07-27  오후 05:04               997 name_gender.csv\n",
      "               2 File(s)         63,725 bytes\n",
      "               2 Dir(s)  619,418,148,864 bytes free\n"
     ]
    }
   ],
   "source": [
    "!chcp 65001\n",
    "!dir data"
   ]
  },
  {
   "cell_type": "code",
   "execution_count": 5,
   "id": "184ab779",
   "metadata": {},
   "outputs": [
    {
     "name": "stdout",
     "output_type": "stream",
     "text": [
      "ITE00100554,18000101,TMAX,-75,,,E,\n",
      "ITE00100554,18000101,TMIN,-148,,,E,\n",
      "GM000010962,18000101,PRCP,0,,,E,\n",
      "EZE00100082,18000101,TMAX,-86,,,E,\n",
      "EZE00100082,18000101,TMIN,-135,,,E,\n"
     ]
    }
   ],
   "source": [
    "!powershell -Command \"Get-Content data/1800.csv | Select-Object -First 5\""
   ]
  },
  {
   "cell_type": "markdown",
   "id": "4d71819a",
   "metadata": {},
   "source": [
    "### 판다스 데이터프레임으로 처리해보기"
   ]
  },
  {
   "cell_type": "code",
   "execution_count": 6,
   "id": "57822368",
   "metadata": {},
   "outputs": [],
   "source": [
    "file_1800_csv = save_path\n",
    "\n",
    "pd_df = pd.read_csv(\n",
    "    file_1800_csv,\n",
    "    names=[\"stationID\", \"date\", \"measure_type\", \"temperature\"],\n",
    "    usecols=[0, 1, 2, 3]\n",
    ")"
   ]
  },
  {
   "cell_type": "code",
   "execution_count": 7,
   "id": "aa91f53d",
   "metadata": {},
   "outputs": [
    {
     "data": {
      "text/html": [
       "<div>\n",
       "<style scoped>\n",
       "    .dataframe tbody tr th:only-of-type {\n",
       "        vertical-align: middle;\n",
       "    }\n",
       "\n",
       "    .dataframe tbody tr th {\n",
       "        vertical-align: top;\n",
       "    }\n",
       "\n",
       "    .dataframe thead th {\n",
       "        text-align: right;\n",
       "    }\n",
       "</style>\n",
       "<table border=\"1\" class=\"dataframe\">\n",
       "  <thead>\n",
       "    <tr style=\"text-align: right;\">\n",
       "      <th></th>\n",
       "      <th>stationID</th>\n",
       "      <th>date</th>\n",
       "      <th>measure_type</th>\n",
       "      <th>temperature</th>\n",
       "    </tr>\n",
       "  </thead>\n",
       "  <tbody>\n",
       "    <tr>\n",
       "      <th>0</th>\n",
       "      <td>ITE00100554</td>\n",
       "      <td>18000101</td>\n",
       "      <td>TMAX</td>\n",
       "      <td>-75</td>\n",
       "    </tr>\n",
       "    <tr>\n",
       "      <th>1</th>\n",
       "      <td>ITE00100554</td>\n",
       "      <td>18000101</td>\n",
       "      <td>TMIN</td>\n",
       "      <td>-148</td>\n",
       "    </tr>\n",
       "    <tr>\n",
       "      <th>2</th>\n",
       "      <td>GM000010962</td>\n",
       "      <td>18000101</td>\n",
       "      <td>PRCP</td>\n",
       "      <td>0</td>\n",
       "    </tr>\n",
       "    <tr>\n",
       "      <th>3</th>\n",
       "      <td>EZE00100082</td>\n",
       "      <td>18000101</td>\n",
       "      <td>TMAX</td>\n",
       "      <td>-86</td>\n",
       "    </tr>\n",
       "    <tr>\n",
       "      <th>4</th>\n",
       "      <td>EZE00100082</td>\n",
       "      <td>18000101</td>\n",
       "      <td>TMIN</td>\n",
       "      <td>-135</td>\n",
       "    </tr>\n",
       "  </tbody>\n",
       "</table>\n",
       "</div>"
      ],
      "text/plain": [
       "     stationID      date measure_type  temperature\n",
       "0  ITE00100554  18000101         TMAX          -75\n",
       "1  ITE00100554  18000101         TMIN         -148\n",
       "2  GM000010962  18000101         PRCP            0\n",
       "3  EZE00100082  18000101         TMAX          -86\n",
       "4  EZE00100082  18000101         TMIN         -135"
      ]
     },
     "execution_count": 7,
     "metadata": {},
     "output_type": "execute_result"
    }
   ],
   "source": [
    "pd_df.head()"
   ]
  },
  {
   "cell_type": "code",
   "execution_count": 8,
   "id": "fceadf0a",
   "metadata": {},
   "outputs": [],
   "source": [
    "# Filter out all but TMI entries\n",
    "pd_minTemps = pd_df[pd_df['measure_type'] == \"TMIN\"]"
   ]
  },
  {
   "cell_type": "code",
   "execution_count": 9,
   "id": "e02578f9",
   "metadata": {},
   "outputs": [
    {
     "data": {
      "text/html": [
       "<div>\n",
       "<style scoped>\n",
       "    .dataframe tbody tr th:only-of-type {\n",
       "        vertical-align: middle;\n",
       "    }\n",
       "\n",
       "    .dataframe tbody tr th {\n",
       "        vertical-align: top;\n",
       "    }\n",
       "\n",
       "    .dataframe thead th {\n",
       "        text-align: right;\n",
       "    }\n",
       "</style>\n",
       "<table border=\"1\" class=\"dataframe\">\n",
       "  <thead>\n",
       "    <tr style=\"text-align: right;\">\n",
       "      <th></th>\n",
       "      <th>stationID</th>\n",
       "      <th>date</th>\n",
       "      <th>measure_type</th>\n",
       "      <th>temperature</th>\n",
       "    </tr>\n",
       "  </thead>\n",
       "  <tbody>\n",
       "    <tr>\n",
       "      <th>1</th>\n",
       "      <td>ITE00100554</td>\n",
       "      <td>18000101</td>\n",
       "      <td>TMIN</td>\n",
       "      <td>-148</td>\n",
       "    </tr>\n",
       "    <tr>\n",
       "      <th>4</th>\n",
       "      <td>EZE00100082</td>\n",
       "      <td>18000101</td>\n",
       "      <td>TMIN</td>\n",
       "      <td>-135</td>\n",
       "    </tr>\n",
       "    <tr>\n",
       "      <th>6</th>\n",
       "      <td>ITE00100554</td>\n",
       "      <td>18000102</td>\n",
       "      <td>TMIN</td>\n",
       "      <td>-125</td>\n",
       "    </tr>\n",
       "    <tr>\n",
       "      <th>9</th>\n",
       "      <td>EZE00100082</td>\n",
       "      <td>18000102</td>\n",
       "      <td>TMIN</td>\n",
       "      <td>-130</td>\n",
       "    </tr>\n",
       "    <tr>\n",
       "      <th>11</th>\n",
       "      <td>ITE00100554</td>\n",
       "      <td>18000103</td>\n",
       "      <td>TMIN</td>\n",
       "      <td>-46</td>\n",
       "    </tr>\n",
       "  </tbody>\n",
       "</table>\n",
       "</div>"
      ],
      "text/plain": [
       "      stationID      date measure_type  temperature\n",
       "1   ITE00100554  18000101         TMIN         -148\n",
       "4   EZE00100082  18000101         TMIN         -135\n",
       "6   ITE00100554  18000102         TMIN         -125\n",
       "9   EZE00100082  18000102         TMIN         -130\n",
       "11  ITE00100554  18000103         TMIN          -46"
      ]
     },
     "execution_count": 9,
     "metadata": {},
     "output_type": "execute_result"
    }
   ],
   "source": [
    "pd_minTemps.head()"
   ]
  },
  {
   "cell_type": "code",
   "execution_count": 10,
   "id": "3c030aee",
   "metadata": {},
   "outputs": [],
   "source": [
    "# Select only stationID and temperature\n",
    "pd_stationTemps = pd_minTemps[[\"stationID\", \"temperature\"]]"
   ]
  },
  {
   "cell_type": "code",
   "execution_count": 11,
   "id": "db06aaaa",
   "metadata": {},
   "outputs": [
    {
     "data": {
      "text/html": [
       "<div>\n",
       "<style scoped>\n",
       "    .dataframe tbody tr th:only-of-type {\n",
       "        vertical-align: middle;\n",
       "    }\n",
       "\n",
       "    .dataframe tbody tr th {\n",
       "        vertical-align: top;\n",
       "    }\n",
       "\n",
       "    .dataframe thead th {\n",
       "        text-align: right;\n",
       "    }\n",
       "</style>\n",
       "<table border=\"1\" class=\"dataframe\">\n",
       "  <thead>\n",
       "    <tr style=\"text-align: right;\">\n",
       "      <th></th>\n",
       "      <th>temperature</th>\n",
       "    </tr>\n",
       "    <tr>\n",
       "      <th>stationID</th>\n",
       "      <th></th>\n",
       "    </tr>\n",
       "  </thead>\n",
       "  <tbody>\n",
       "    <tr>\n",
       "      <th>EZE00100082</th>\n",
       "      <td>-135</td>\n",
       "    </tr>\n",
       "    <tr>\n",
       "      <th>ITE00100554</th>\n",
       "      <td>-148</td>\n",
       "    </tr>\n",
       "  </tbody>\n",
       "</table>\n",
       "</div>"
      ],
      "text/plain": [
       "             temperature\n",
       "stationID               \n",
       "EZE00100082         -135\n",
       "ITE00100554         -148"
      ]
     },
     "execution_count": 11,
     "metadata": {},
     "output_type": "execute_result"
    }
   ],
   "source": [
    "# Aggregate to find minimum temperature for every station\n",
    "pd_minTempsByStation = pd_stationTemps.groupby([\"stationID\"]).min(\"temperature\")\n",
    "pd_minTempsByStation.head()"
   ]
  },
  {
   "cell_type": "markdown",
   "id": "df1f887f",
   "metadata": {},
   "source": [
    "## Spark으로 처리해보기"
   ]
  },
  {
   "cell_type": "code",
   "execution_count": 12,
   "id": "70ec8bd6",
   "metadata": {},
   "outputs": [],
   "source": [
    "from pyspark.sql import SparkSession\n",
    "from pyspark import SparkConf"
   ]
  },
  {
   "cell_type": "code",
   "execution_count": 13,
   "id": "c6644a4f",
   "metadata": {},
   "outputs": [],
   "source": [
    "# 1) 로컬 호스트 IP 구하기\n",
    "host_ip = \"127.0.0.1\"  # 또는 socket.gethostbyname(socket.gethostname())\n",
    "\n",
    "# 2) 환경변수 지정\n",
    "os.environ['SPARK_LOCAL_IP']           = host_ip\n",
    "os.environ['PYSPARK_PYTHON']           = os.sys.executable\n",
    "os.environ['PYSPARK_DRIVER_PYTHON']    = os.sys.executable\n",
    "\n",
    "conf = SparkConf()\n",
    "conf.set(\"spark.app.name\", \"PySpark DataFrame #1\")\n",
    "conf.set(\"spark.master\", \"local[*]\")\n",
    "conf.set(\"spark.driver.host\", host_ip)\n",
    "conf.set(\"spark.driver.bindAddress\", host_ip)\n",
    "\n",
    "spark = SparkSession.builder\\\n",
    "        .config(conf=conf)\\\n",
    "        .getOrCreate()"
   ]
  },
  {
   "cell_type": "code",
   "execution_count": 41,
   "id": "84bd9c3f",
   "metadata": {},
   "outputs": [],
   "source": [
    "df = spark.read.format(\"csv\").load(file_1800_csv) # spark.read.csv(file_1800_csv)"
   ]
  },
  {
   "cell_type": "code",
   "execution_count": 42,
   "id": "2aef2442",
   "metadata": {},
   "outputs": [
    {
     "name": "stdout",
     "output_type": "stream",
     "text": [
      "root\n",
      " |-- _c0: string (nullable = true)\n",
      " |-- _c1: string (nullable = true)\n",
      " |-- _c2: string (nullable = true)\n",
      " |-- _c3: string (nullable = true)\n",
      " |-- _c4: string (nullable = true)\n",
      " |-- _c5: string (nullable = true)\n",
      " |-- _c6: string (nullable = true)\n",
      " |-- _c7: string (nullable = true)\n",
      "\n"
     ]
    }
   ],
   "source": [
    "df.printSchema()"
   ]
  },
  {
   "cell_type": "code",
   "execution_count": 45,
   "id": "2646eb6f",
   "metadata": {},
   "outputs": [],
   "source": [
    "df = spark.read.format(\"csv\")\\\n",
    "        .load(file_1800_csv)\\\n",
    "        .toDF(\"stationID\", \"date\", \"measure_type\", \"temperature\", \"_c4\", \"_c5\", \"_c6\", \"_c7\")"
   ]
  },
  {
   "cell_type": "code",
   "execution_count": 46,
   "id": "65abf2b5",
   "metadata": {},
   "outputs": [
    {
     "name": "stdout",
     "output_type": "stream",
     "text": [
      "root\n",
      " |-- stationID: string (nullable = true)\n",
      " |-- date: string (nullable = true)\n",
      " |-- measure_type: string (nullable = true)\n",
      " |-- temperature: string (nullable = true)\n",
      " |-- _c4: string (nullable = true)\n",
      " |-- _c5: string (nullable = true)\n",
      " |-- _c6: string (nullable = true)\n",
      " |-- _c7: string (nullable = true)\n",
      "\n"
     ]
    }
   ],
   "source": [
    "df.printSchema()"
   ]
  },
  {
   "cell_type": "code",
   "execution_count": 14,
   "id": "66acd956",
   "metadata": {},
   "outputs": [],
   "source": [
    "df = spark.read.format(\"csv\")\\\n",
    "        .option(\"inferSchema\", \"true\")\\\n",
    "        .load(file_1800_csv)\\\n",
    "        .toDF(\"stationID\", \"date\", \"measure_type\", \"temperature\", \"_c4\", \"_c5\", \"_c6\", \"_c7\")"
   ]
  },
  {
   "cell_type": "code",
   "execution_count": 15,
   "id": "6000bfd0",
   "metadata": {},
   "outputs": [
    {
     "name": "stdout",
     "output_type": "stream",
     "text": [
      "root\n",
      " |-- stationID: string (nullable = true)\n",
      " |-- date: integer (nullable = true)\n",
      " |-- measure_type: string (nullable = true)\n",
      " |-- temperature: integer (nullable = true)\n",
      " |-- _c4: string (nullable = true)\n",
      " |-- _c5: string (nullable = true)\n",
      " |-- _c6: string (nullable = true)\n",
      " |-- _c7: string (nullable = true)\n",
      "\n"
     ]
    }
   ],
   "source": [
    "df.printSchema()"
   ]
  },
  {
   "cell_type": "code",
   "execution_count": 17,
   "id": "8df5dcc7",
   "metadata": {},
   "outputs": [],
   "source": [
    "from pyspark.sql.types import StringType, IntegerType, FloatType\n",
    "from pyspark.sql.types import StructType, StructField\n",
    "\n",
    "schema = StructType([ \\\n",
    "                    StructField(\"stationID\", StringType(), True), \\\n",
    "                    StructField(\"date\", IntegerType(), True), \\\n",
    "                    StructField(\"measure_type\", StringType(), True), \\\n",
    "                    StructField(\"temperature\", FloatType(), True)])"
   ]
  },
  {
   "cell_type": "code",
   "execution_count": 18,
   "id": "08e87370",
   "metadata": {},
   "outputs": [],
   "source": [
    "# df = spark.read.schema(schema).format(\"csv\").load(file_1800_csv)\n",
    "df = spark.read.schema(schema).csv(file_1800_csv)"
   ]
  },
  {
   "cell_type": "code",
   "execution_count": 19,
   "id": "4b626152",
   "metadata": {},
   "outputs": [
    {
     "name": "stdout",
     "output_type": "stream",
     "text": [
      "root\n",
      " |-- stationID: string (nullable = true)\n",
      " |-- date: integer (nullable = true)\n",
      " |-- measure_type: string (nullable = true)\n",
      " |-- temperature: float (nullable = true)\n",
      "\n"
     ]
    }
   ],
   "source": [
    "df.printSchema()"
   ]
  },
  {
   "cell_type": "code",
   "execution_count": 20,
   "id": "f70950f5",
   "metadata": {},
   "outputs": [],
   "source": [
    "# Filter out all but TMIN entries\n",
    "minTemps = df.filter(df.measure_type == \"TMIN\")"
   ]
  },
  {
   "cell_type": "code",
   "execution_count": 21,
   "id": "49d00ed5",
   "metadata": {},
   "outputs": [
    {
     "data": {
      "text/plain": [
       "730"
      ]
     },
     "execution_count": 21,
     "metadata": {},
     "output_type": "execute_result"
    }
   ],
   "source": [
    "minTemps.count()"
   ]
  },
  {
   "cell_type": "code",
   "execution_count": 22,
   "id": "d7501df6",
   "metadata": {},
   "outputs": [],
   "source": [
    "# Column expression으로 필터링 적용\n",
    "minTemps = df.where(df.measure_type == \"TMIN\")"
   ]
  },
  {
   "cell_type": "code",
   "execution_count": 23,
   "id": "6d375f27",
   "metadata": {},
   "outputs": [
    {
     "data": {
      "text/plain": [
       "730"
      ]
     },
     "execution_count": 23,
     "metadata": {},
     "output_type": "execute_result"
    }
   ],
   "source": [
    "minTemps.count()"
   ]
  },
  {
   "cell_type": "code",
   "execution_count": 24,
   "id": "bf9bdaf0",
   "metadata": {},
   "outputs": [],
   "source": [
    "# SQL expression으로 필터링 적용\n",
    "minTemps = df.where(\"measure_type = 'TMIN'\")"
   ]
  },
  {
   "cell_type": "code",
   "execution_count": 25,
   "id": "46f4bf43",
   "metadata": {},
   "outputs": [
    {
     "data": {
      "text/plain": [
       "730"
      ]
     },
     "execution_count": 25,
     "metadata": {},
     "output_type": "execute_result"
    }
   ],
   "source": [
    "minTemps.count()"
   ]
  },
  {
   "cell_type": "code",
   "execution_count": 28,
   "id": "da45ed85",
   "metadata": {},
   "outputs": [
    {
     "name": "stdout",
     "output_type": "stream",
     "text": [
      "+-----------+----------------+\n",
      "|  stationID|min(temperature)|\n",
      "+-----------+----------------+\n",
      "|ITE00100554|          -148.0|\n",
      "|EZE00100082|          -135.0|\n",
      "+-----------+----------------+\n",
      "\n"
     ]
    }
   ],
   "source": [
    "# Aggregate to find minimum temperature for every station\n",
    "minTempsByStation = minTemps.groupBy(\"stationID\").min(\"temperature\")\n",
    "minTempsByStation.show()"
   ]
  },
  {
   "cell_type": "code",
   "execution_count": 30,
   "id": "6d0207fd",
   "metadata": {},
   "outputs": [],
   "source": [
    "# Select only stationID and temperature\n",
    "stationTemps = minTemps[[\"stationID\", \"temperature\"]]"
   ]
  },
  {
   "cell_type": "code",
   "execution_count": 33,
   "id": "908a4441",
   "metadata": {},
   "outputs": [
    {
     "name": "stdout",
     "output_type": "stream",
     "text": [
      "+-----------+-----------+\n",
      "|  stationID|temperature|\n",
      "+-----------+-----------+\n",
      "|ITE00100554|     -148.0|\n",
      "|EZE00100082|     -135.0|\n",
      "|ITE00100554|     -125.0|\n",
      "|EZE00100082|     -130.0|\n",
      "|ITE00100554|      -46.0|\n",
      "+-----------+-----------+\n",
      "only showing top 5 rows\n",
      "\n"
     ]
    }
   ],
   "source": [
    "stationTemps.show(5)"
   ]
  },
  {
   "cell_type": "code",
   "execution_count": 34,
   "id": "4d187191",
   "metadata": {},
   "outputs": [],
   "source": [
    "stationTemps = minTemps.select(\"stationID\", \"temperature\")"
   ]
  },
  {
   "cell_type": "code",
   "execution_count": 35,
   "id": "e36a7af4",
   "metadata": {},
   "outputs": [
    {
     "name": "stdout",
     "output_type": "stream",
     "text": [
      "+-----------+-----------+\n",
      "|  stationID|temperature|\n",
      "+-----------+-----------+\n",
      "|ITE00100554|     -148.0|\n",
      "|EZE00100082|     -135.0|\n",
      "|ITE00100554|     -125.0|\n",
      "|EZE00100082|     -130.0|\n",
      "|ITE00100554|      -46.0|\n",
      "+-----------+-----------+\n",
      "only showing top 5 rows\n",
      "\n"
     ]
    }
   ],
   "source": [
    "stationTemps.show(5)"
   ]
  },
  {
   "cell_type": "code",
   "execution_count": 36,
   "id": "7b9f46cf",
   "metadata": {},
   "outputs": [],
   "source": [
    "# Collect, format, and print the results\n",
    "results = minTempsByStation.collect()"
   ]
  },
  {
   "cell_type": "code",
   "execution_count": 37,
   "id": "9e53738c",
   "metadata": {},
   "outputs": [
    {
     "name": "stdout",
     "output_type": "stream",
     "text": [
      "ITE00100554\t-148.00F\n",
      "EZE00100082\t-135.00F\n"
     ]
    }
   ],
   "source": [
    "for result in results:\n",
    "    print(result[0] + \"\\t{:.2f}F\".format(result[1]))"
   ]
  },
  {
   "cell_type": "markdown",
   "id": "5e2ac5d4",
   "metadata": {},
   "source": [
    "## Spark SQL로 처리해보기"
   ]
  },
  {
   "cell_type": "code",
   "execution_count": 38,
   "id": "6210994d",
   "metadata": {},
   "outputs": [],
   "source": [
    "df.createOrReplaceTempView(\"station1800\")"
   ]
  },
  {
   "cell_type": "code",
   "execution_count": 40,
   "id": "f5cda0c9",
   "metadata": {},
   "outputs": [],
   "source": [
    "results = spark.sql(\"\"\"SELECT stationID, MIN(temperature)\n",
    "                    FROM station1800\n",
    "                    WHERE measure_type = 'TMIN'\n",
    "                    GROUP BY 1\"\"\").collect()"
   ]
  },
  {
   "cell_type": "code",
   "execution_count": 41,
   "id": "77319aad",
   "metadata": {},
   "outputs": [
    {
     "name": "stdout",
     "output_type": "stream",
     "text": [
      "Row(stationID='ITE00100554', min(temperature)=-148.0)\n",
      "Row(stationID='EZE00100082', min(temperature)=-135.0)\n"
     ]
    }
   ],
   "source": [
    "# pyspark.sql.Row는 DataFrame의 레코드에 해당하며 필드별로 이름이 존재\n",
    "for r in results:\n",
    "    print(r)"
   ]
  }
 ],
 "metadata": {
  "kernelspec": {
   "display_name": "venv",
   "language": "python",
   "name": "python3"
  },
  "language_info": {
   "codemirror_mode": {
    "name": "ipython",
    "version": 3
   },
   "file_extension": ".py",
   "mimetype": "text/x-python",
   "name": "python",
   "nbconvert_exporter": "python",
   "pygments_lexer": "ipython3",
   "version": "3.10.0"
  }
 },
 "nbformat": 4,
 "nbformat_minor": 5
}
